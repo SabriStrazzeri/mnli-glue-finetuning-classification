{
 "cells": [
  {
   "cell_type": "markdown",
   "metadata": {
    "id": "rEJBSTyZIrIb"
   },
   "source": [
    "# Fine-tuning for Natural Language Inference\n",
    "\n",
    "This notebook demonstrates how to fine-tune a transformer-based model (e.g., RoBERTa) on the MNLI subset of the GLUE benchmark using 🤗 Hugging Face Transformers and Datasets libraries.\n",
    "\n",
    "The MNLI task involves classifying the relationship between a pair of sentences (premise and hypothesis) into one of three categories:\n",
    "\n",
    "- Entailment: The hypothesis logically follows from the premise.\n",
    "- Neutral: The hypothesis cannot be determined as true or false based on the premise.\n",
    "- Contradiction: The hypothesis contradicts the premise.\n",
    "\n",
    "The description of the dataset is available on: https://huggingface.co/datasets/nyu-mll/glue"
   ]
  },
  {
   "cell_type": "markdown",
   "metadata": {},
   "source": [
    "## 📦 Imports and Setup"
   ]
  },
  {
   "cell_type": "code",
   "execution_count": null,
   "metadata": {},
   "outputs": [
    {
     "name": "stdout",
     "output_type": "stream",
     "text": [
      "Is CUDA available: True\n",
      "CUDA version: 11.8\n",
      "Number of GPUs available: 1\n"
     ]
    }
   ],
   "source": [
    "# Import necessary libraries\n",
    "import logging\n",
    "logging.getLogger(\"transformers\").setLevel(logging.ERROR)\n",
    "from time import time\n",
    "from datasets import *\n",
    "from transformers import AutoTokenizer, AutoModelForSequenceClassification, DataCollatorWithPadding, TrainingArguments, Trainer\n",
    "from sklearn.metrics import *\n",
    "import matplotlib.pyplot as plt\n",
    "import torch\n",
    "print(\"Is CUDA available:\", torch.cuda.is_available())\n",
    "print(\"CUDA version:\", torch.version.cuda)\n",
    "print(\"Number of GPUs available:\", torch.cuda.device_count())"
   ]
  },
  {
   "cell_type": "markdown",
   "metadata": {
    "id": "wvhTfthoTfFW"
   },
   "source": [
    "## 📊 Data Loading\n",
    "\n",
    "The MNLI dataset is loaded from the GLUE benchmark and it is filtered to only include examples where the premise is shorter than 20 characters. This helps reduce training time."
   ]
  },
  {
   "cell_type": "code",
   "execution_count": null,
   "metadata": {
    "colab": {
     "base_uri": "https://localhost:8080/"
    },
    "id": "s_AY1ATSIrIq",
    "outputId": "9a907286-7557-4c78-daa2-b6a8d5ce6938"
   },
   "outputs": [
    {
     "data": {
      "text/plain": [
       "DatasetDict({\n",
       "    train: Dataset({\n",
       "        features: ['premise', 'hypothesis', 'label', 'idx'],\n",
       "        num_rows: 392702\n",
       "    })\n",
       "    validation_matched: Dataset({\n",
       "        features: ['premise', 'hypothesis', 'label', 'idx'],\n",
       "        num_rows: 9815\n",
       "    })\n",
       "    validation_mismatched: Dataset({\n",
       "        features: ['premise', 'hypothesis', 'label', 'idx'],\n",
       "        num_rows: 9832\n",
       "    })\n",
       "    test_matched: Dataset({\n",
       "        features: ['premise', 'hypothesis', 'label', 'idx'],\n",
       "        num_rows: 9796\n",
       "    })\n",
       "    test_mismatched: Dataset({\n",
       "        features: ['premise', 'hypothesis', 'label', 'idx'],\n",
       "        num_rows: 9847\n",
       "    })\n",
       "})"
      ]
     },
     "execution_count": 2,
     "metadata": {},
     "output_type": "execute_result"
    }
   ],
   "source": [
    "# Load the MNLI dataset\n",
    "dataset = load_dataset(\"glue\", \"mnli\")\n",
    "dataset"
   ]
  },
  {
   "cell_type": "markdown",
   "metadata": {},
   "source": [
    "For the sole purpose of not delaying training times, the dataset will be filtered and only the records that have a _premise_ field length of less than 20 will be kept."
   ]
  },
  {
   "cell_type": "code",
   "execution_count": null,
   "metadata": {
    "colab": {
     "base_uri": "https://localhost:8080/",
     "height": 574,
     "referenced_widgets": [
      "9e670f110c794af8b3045c6261f00ea7",
      "a72f09ce216340969e6e0d91b79d2959",
      "b0d8d85d7c6d43c8ad8bf5c4ee57f49d",
      "7ca60914f7ba440f9b5a2390007e67b2",
      "4c0224089907446aa94390bcbaf9700f",
      "f6f97085fa23441087f442f64e9cc671",
      "c770318ca4b3402281226aceac1a937a",
      "be7e1df722d54c648168e15e5bfd01d5",
      "b8047c00b1644926a97542e15b0442ba",
      "256251e96d4548b7a55deed2cd053390",
      "dafb3d99c1f048d487be3e60fd777483",
      "8b5db2a6bf8b48069aa76d13cf019fa8",
      "4529e668e4a344048d551cf9e3221b15",
      "0a4cc04f53b547f38b64b3cfe11dcb29",
      "9dd30503d50441b4b1600a6124ca5c64",
      "8aca4bffd86c4ea3b7062eb5a3de078e",
      "36a45abb7f434cda96cdd19cf4f3a646",
      "dd188ec8d1234277ad1dda2bbc5c069c",
      "68e90016a797494eb6ff29ad8550553b",
      "54d6122a35ca4f578fffc09dbab1225a",
      "6199140e525c4d18a957f13b492dc3f6",
      "c2e151b03b1347cf9d9cbf889f1fd8aa",
      "f264df75cbf5453a90ab5f8f34be7e85",
      "9a92b4c7ff6449a5a74bb72064587ee4",
      "cc0bfc42e45143e28509865dcb3722e0",
      "980333d20a6f4c3ab2b5c196f82d5afd",
      "d49dc40279f04584978865eb2d0dff90",
      "b73b749940cc42f39c866432514fec3b",
      "8823728956b841408a883865681339f3",
      "c5a42806f0824c18926e7f7aa3f9f731",
      "e7857de03cfa4c028526a06a63838a72",
      "6a6eccb2ecc345a0b5a000375454e967",
      "78949868540343ab93676036e3dd33a6",
      "026c265003dd45aba4633ce6becac9d7",
      "dbfd2549cd8b4e66a6c43b7d18e47961",
      "115d02046e234a7992cd12dfcef0ed3b",
      "d0327d636fac435d9178652986870216",
      "10528b9d94064ddcb87373f9256b41e1",
      "dfb2cfdd9fee43fd8aa8e7a22fac0930",
      "fc9f4f595e4d43d1852747d96c1e0dc7",
      "f36bbdb167dd492bacf5f68aed2b40ce",
      "c2054135e3ac4001a7036383ef402510",
      "4939b6a6e5414e41a56106ec46fb1ce0",
      "7a4482a082b043f9b059d47300a8629d",
      "4d7568f34cad45c9baf8a52333684685",
      "ef9db714099a46d4a8c7618635a02765",
      "61c3a72f57064b3bb5d44f23b45d4a0b",
      "169c3bb6b4444d5a9c48bdbba8961853",
      "d7440ceab42746bc8f8ce35393d5b1a8",
      "a2401273ba8e4d65851a37e0a1acd62a",
      "80f096b7f0fb4996b2b15458f89e55ea",
      "3a1c88b5758041758b7022d5260d0635",
      "ace98ee001c94c27a46017687eb2ae0f",
      "b2a4b894afd2490797924a4f250c2970",
      "d93348b82160483c819249c04d8625a2"
     ]
    },
    "id": "X6HrpprwIrIz",
    "outputId": "64fffe2c-7b6c-4720-be65-ae70bb7ec67a"
   },
   "outputs": [
    {
     "data": {
      "text/plain": [
       "DatasetDict({\n",
       "    train: Dataset({\n",
       "        features: ['premise', 'hypothesis', 'label', 'idx'],\n",
       "        num_rows: 13635\n",
       "    })\n",
       "    validation_matched: Dataset({\n",
       "        features: ['premise', 'hypothesis', 'label', 'idx'],\n",
       "        num_rows: 413\n",
       "    })\n",
       "    validation_mismatched: Dataset({\n",
       "        features: ['premise', 'hypothesis', 'label', 'idx'],\n",
       "        num_rows: 296\n",
       "    })\n",
       "    test_matched: Dataset({\n",
       "        features: ['premise', 'hypothesis', 'label', 'idx'],\n",
       "        num_rows: 382\n",
       "    })\n",
       "    test_mismatched: Dataset({\n",
       "        features: ['premise', 'hypothesis', 'label', 'idx'],\n",
       "        num_rows: 288\n",
       "    })\n",
       "})"
      ]
     },
     "execution_count": 3,
     "metadata": {},
     "output_type": "execute_result"
    }
   ],
   "source": [
    "# Filter the dataset to keep only records with a premise length of less than 20\n",
    "def filter_rows(x):\n",
    "    return len(x['premise'])<20\n",
    "\n",
    "ds_tarea = dataset.filter(filter_rows)\n",
    "ds_tarea"
   ]
  },
  {
   "cell_type": "markdown",
   "metadata": {},
   "source": [
    "## 🧪 Tokenization and Model Setup\n",
    "\n",
    "A preprocessing function is defined to tokenize the premise and hypothesis pairs using a pretrained tokenizer. On the other hand, the pretrained RoBERTa model for sequence classification was loaded."
   ]
  },
  {
   "cell_type": "code",
   "execution_count": null,
   "metadata": {},
   "outputs": [],
   "source": [
    "# Model configuration\n",
    "model_checkpoint = \"roberta-base\"\n",
    "\n",
    "# Tokenizer definition\n",
    "tokenizer = AutoTokenizer.from_pretrained(\n",
    "    model_checkpoint,\n",
    "    device=0 # Move model to GPU\n",
    ")\n",
    "\n",
    "# Model definition\n",
    "model = AutoModelForSequenceClassification.from_pretrained(\n",
    "    model_checkpoint, \n",
    "    num_labels=3, # MNLI has three labels: entailment, neutral, contradiction\n",
    ")\n",
    "model = model.to(\"cuda\") # Move model to GPU"
   ]
  },
  {
   "cell_type": "code",
   "execution_count": null,
   "metadata": {},
   "outputs": [],
   "source": [
    "# Pre-processing function definition\n",
    "def preprocess_function(x):\n",
    "    inputs = tokenizer(\n",
    "        x[\"premise\"],\n",
    "        x[\"hypothesis\"],\n",
    "        truncation=True,\n",
    "        padding=True,\n",
    "        max_length=256, \n",
    "        return_tensors=\"pt\" \n",
    "    )\n",
    "\n",
    "    if \"label\" in x and not isinstance(x.get(\"premise\"), str):\n",
    "        inputs[\"labels\"] = x[\"label\"]\n",
    "\n",
    "    return inputs\n",
    "\n",
    "# Data pre-processing\n",
    "tokenized_ds = ds_tarea.map(\n",
    "    preprocess_function,\n",
    "    batched=True,\n",
    "    remove_columns=[\"premise\", \"hypothesis\", \"idx\"]\n",
    ")\n",
    "\n",
    "# Data collator definition\n",
    "data_collator = DataCollatorWithPadding(\n",
    "    tokenizer=tokenizer\n",
    "    )"
   ]
  },
  {
   "cell_type": "markdown",
   "metadata": {},
   "source": [
    "## 🏋️ Training the Model\n",
    "\n",
    "The training arguments are configured and the Hugging Facee Trainer API is used to fine-tune the model.\n"
   ]
  },
  {
   "cell_type": "code",
   "execution_count": null,
   "metadata": {},
   "outputs": [],
   "source": [
    "seed = 99 # Set random seed for reproducibility\n",
    "\n",
    "# Training arguments\n",
    "training_args = TrainingArguments(\n",
    "    output_dir = './results',\n",
    "    num_train_epochs=4,\n",
    "    per_device_train_batch_size=8,\n",
    "    per_device_eval_batch_size=16,\n",
    "    gradient_accumulation_steps=2, \n",
    "    \n",
    "    # Anti-overfitting\n",
    "    learning_rate=2e-5,\n",
    "    weight_decay=0.01,\n",
    "\n",
    "    do_train=True, \n",
    "    eval_strategy=\"steps\",\n",
    "    eval_steps=300, \n",
    "    save_strategy=\"steps\",\n",
    "    save_steps=300,\n",
    "    logging_dir=\"./logs\",\n",
    "    logging_steps=100,\n",
    "\n",
    "    load_best_model_at_end=True,\n",
    "    metric_for_best_model=\"eval_loss\",\n",
    "    greater_is_better=False,\n",
    "    save_total_limit=2,\n",
    "\n",
    "    seed=seed\n",
    ")\n",
    "\n",
    "# Trainer definition\n",
    "trainer = Trainer(\n",
    "    model=model, \n",
    "    args=training_args, \n",
    "    train_dataset=tokenized_ds['train'],\n",
    "    eval_dataset=tokenized_ds['validation_matched'],\n",
    "    tokenizer=tokenizer,\n",
    "    data_collator=data_collator\n",
    ")\n"
   ]
  },
  {
   "cell_type": "code",
   "execution_count": null,
   "metadata": {
    "colab": {
     "base_uri": "https://localhost:8080/",
     "height": 426
    },
    "id": "uNx5pyRlIrJh",
    "outputId": "a905308d-34ec-4332-ffe3-aad97bdb8d5d",
    "scrolled": true
   },
   "outputs": [],
   "source": [
    "# Training the model\n",
    "start = time()\n",
    "\n",
    "trainer.train()\n",
    "\n",
    "end = time()\n",
    "print(f\">>>>>>>>>>>>> elapsed time: {(end-start)/60:.0f}m\")"
   ]
  },
  {
   "cell_type": "markdown",
   "metadata": {},
   "source": [
    "## 📈 Evaluation and Predictions\n",
    "\n",
    "The model is evaluated on the validation sets and predictions are generated.\n"
   ]
  },
  {
   "cell_type": "code",
   "execution_count": null,
   "metadata": {},
   "outputs": [],
   "source": [
    "# Evaluation\n",
    "sample = ds_tarea['validation_matched'][0]\n",
    "inputs = preprocess_function(sample)\n",
    "for key, value in inputs.items():\n",
    "    if isinstance(value, torch.Tensor):\n",
    "        print(f\"{key} es una instancia de torch.Tensor\") # Check if the value is a tensor\n",
    "    else:\n",
    "        print(f\"{key} no es una instancia de torch.Tensor\") # Check if the value is not a tensor"
   ]
  },
  {
   "cell_type": "code",
   "execution_count": null,
   "metadata": {},
   "outputs": [],
   "source": [
    "# Evaluation on validation sets\n",
    "device = torch.device('cuda' if torch.cuda.is_available() else 'cpu')\n",
    "model.to(device)\n",
    "\n",
    "# Function to evaluate the model on validation sets\n",
    "def predict(x):\n",
    "    inputs = preprocess_function(x)\n",
    "    inputs = {k: v.to(device) for k, v in inputs.items()}\n",
    "    with torch.no_grad():\n",
    "        outputs = model(**inputs)\n",
    "        predictions = torch.argmax(outputs.logits, dim=-1)\n",
    "        return {'prediction': predictions.item()}\n",
    "\n",
    "# Generate predictions for the validation sets\n",
    "ds_predictions = ds_tarea.map(predict)\n",
    "ds_predictions"
   ]
  },
  {
   "cell_type": "code",
   "execution_count": null,
   "metadata": {
    "scrolled": false
   },
   "outputs": [
    {
     "name": "stdout",
     "output_type": "stream",
     "text": [
      "*** train ***\n"
     ]
    },
    {
     "data": {
      "image/png": "[encoded data removed]",
      "text/plain": [
       "<Figure size 640x480 with 2 Axes>"
      ]
     },
     "metadata": {},
     "output_type": "display_data"
    },
    {
     "name": "stdout",
     "output_type": "stream",
     "text": [
      "[[4006  381  158]\n",
      " [ 455 3838  252]\n",
      " [ 104  151 4290]]\n",
      "*** validation_matched ***\n"
     ]
    },
    {
     "data": {
      "image/png": "[encoded data removed]",
      "text/plain": [
       "<Figure size 640x480 with 2 Axes>"
      ]
     },
     "metadata": {},
     "output_type": "display_data"
    },
    {
     "name": "stdout",
     "output_type": "stream",
     "text": [
      "[[116  21   6]\n",
      " [ 11 110   9]\n",
      " [  5  13 122]]\n",
      "*** validation_mismatched ***\n"
     ]
    },
    {
     "data": {
      "image/png": "[encoded data removed]",
      "text/plain": [
       "<Figure size 640x480 with 2 Axes>"
      ]
     },
     "metadata": {},
     "output_type": "display_data"
    },
    {
     "name": "stdout",
     "output_type": "stream",
     "text": [
      "[[84 17  4]\n",
      " [11 65 12]\n",
      " [ 8  8 87]]\n"
     ]
    }
   ],
   "source": [
    "# Confusion matrix for each subset\n",
    "for subset in ['train', 'validation_matched', 'validation_mismatched']:\n",
    "    y_true = ds_predictions[subset]['label']\n",
    "    y_pred = ds_predictions[subset]['prediction']\n",
    "    cm = confusion_matrix(y_true=y_true, y_pred=y_pred)\n",
    "    print(f\"*** {subset} ***\")\n",
    "    ConfusionMatrixDisplay(cm).plot()\n",
    "    plt.show()\n",
    "    print(cm)"
   ]
  },
  {
   "cell_type": "markdown",
   "metadata": {},
   "source": [
    "Key insights:\n",
    "\n",
    "- Training subset: the model has learned the training data well, though some overlap between Entailment (0) and Neutral (1) remains.\n",
    "\n",
    "- Validation matched subset: the model generalizes well to in-domain validation data. Neutral (1) remains the most ambiguous class.\n",
    "\n",
    "- Validation mismatched subset: the model is more sensitive to domain shifts, especially when distinguishing Neutral (1) from other classes. "
   ]
  },
  {
   "cell_type": "code",
   "execution_count": null,
   "metadata": {
    "scrolled": true
   },
   "outputs": [
    {
     "name": "stdout",
     "output_type": "stream",
     "text": [
      "Subset: train:\n",
      "Accuracy: 0.89 | Precision0: 0.88 | Precision1: 0.88 | Precision2: 0.91 | Recall0: 0.88 | Recall1: 0.84 | Recall2: 0.94\n",
      "-----\n",
      "\n",
      "Subset: validation_matched:\n",
      "Accuracy: 0.84 | Precision0: 0.88 | Precision1: 0.76 | Precision2: 0.89 | Recall0: 0.81 | Recall1: 0.85 | Recall2: 0.87\n",
      "-----\n",
      "\n",
      "Subset: validation_mismatched:\n",
      "Accuracy: 0.80 | Precision0: 0.82 | Precision1: 0.72 | Precision2: 0.84 | Recall0: 0.80 | Recall1: 0.74 | Recall2: 0.84\n",
      "-----\n",
      "\n"
     ]
    }
   ],
   "source": [
    "# Calculate and print metrics for each subset\n",
    "metrics = {}\n",
    "for subset in ['train', 'validation_matched', 'validation_mismatched']:\n",
    "    y_true = ds_predictions[subset]['label']\n",
    "    y_pred = ds_predictions[subset]['prediction']\n",
    "    acc = accuracy_score(y_true=y_true, y_pred=y_pred)\n",
    "    pre = precision_score(y_true=y_true, y_pred=y_pred, average=None)\n",
    "    rec = recall_score(y_true=y_true, y_pred=y_pred, average=None)\n",
    "    metrics[subset] = [acc] + pre.tolist() + rec.tolist()\n",
    "    print(f\"Subset: {subset}:\")\n",
    "    print(f\"Accuracy: {acc:.2f} | Precision0: {pre[0]:.2f} | Precision1: {pre[1]:.2f} | Precision2: {pre[2]:.2f} | Recall0: {rec[0]:.2f} | Recall1: {rec[1]:.2f} | Recall2: {rec[2]:.2f}\")\n",
    "    print(\"-----\\n\")"
   ]
  },
  {
   "cell_type": "markdown",
   "metadata": {},
   "source": [
    "Key insights: \n",
    "\n",
    "- Training subset: high accuracy and strong precision/recall across all classes.Particularly, the model is very good at identifying contradictions (it is the class with the highest recall).\n",
    "\n",
    "- Validation matched subset: there is a balanced performance across all classes, indicating good generalization. Precision for Neutral drops a little bit, but recall improves, i.e, the model is able to identify Neutral cases but it can mislabel other classes as Neutral sometimes. \n",
    "\n",
    "- Validation mismatched subset: accuracy drops a little due to how challenging the domain shift is. However, Entailment and Contradiction remain relatively stable, showing robustness. "
   ]
  },
  {
   "cell_type": "markdown",
   "metadata": {},
   "source": [
    "## ✅ Conclusions\n",
    "- The model is able to generalize reasonably well. \n",
    "- Neutral is the most challenging class (it has the lowest precision and recall). \n",
    "- Contradiction is the most robust class since it maintains high precision and recall. \n",
    "- Domain shift affects the performance, which indicates the model is quite sensitive to changes in data distribution. "
   ]
  }
 ],
 "metadata": {
  "colab": {
   "provenance": []
  },
  "kernelspec": {
   "display_name": "nlp",
   "language": "python",
   "name": "python3"
  },
  "language_info": {
   "codemirror_mode": {
    "name": "ipython",
    "version": 3
   },
   "file_extension": ".py",
   "mimetype": "text/x-python",
   "name": "python",
   "nbconvert_exporter": "python",
   "pygments_lexer": "ipython3",
   "version": "3.10.18"
  }
 },
 "nbformat": 4,
 "nbformat_minor": 1
}