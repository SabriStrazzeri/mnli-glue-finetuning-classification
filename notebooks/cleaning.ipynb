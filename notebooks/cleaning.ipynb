{
 "cells": [
  {
   "cell_type": "code",
   "execution_count": 1,
   "id": "54d20e80",
   "metadata": {},
   "outputs": [],
   "source": [
    "import json\n",
    "\n",
    "# Carga el notebook\n",
    "with open(\"mlni_glue_finetuning_classification.ipynb\", \"r\", encoding=\"utf-8\") as f:\n",
    "    notebook = json.load(f)\n",
    "\n",
    "# Limpia metadata global\n",
    "if \"widgets\" in notebook.get(\"metadata\", {}):\n",
    "    del notebook[\"metadata\"][\"widgets\"]\n",
    "\n",
    "# Limpia metadata por celda\n",
    "for cell in notebook.get(\"cells\", []):\n",
    "    if \"metadata\" in cell and \"widgets\" in cell[\"metadata\"]:\n",
    "        del cell[\"metadata\"][\"widgets\"]\n",
    "\n",
    "# Guarda el notebook limpio\n",
    "with open(\"mlni_glue_finetuning_classification_clean.ipynb\", \"w\", encoding=\"utf-8\") as f:\n",
    "    json.dump(notebook, f, indent=1, ensure_ascii=False)\n"
   ]
  }
 ],
 "metadata": {
  "kernelspec": {
   "display_name": "Python 3",
   "language": "python",
   "name": "python3"
  },
  "language_info": {
   "codemirror_mode": {
    "name": "ipython",
    "version": 3
   },
   "file_extension": ".py",
   "mimetype": "text/x-python",
   "name": "python",
   "nbconvert_exporter": "python",
   "pygments_lexer": "ipython3",
   "version": "3.13.0"
  }
 },
 "nbformat": 4,
 "nbformat_minor": 5
}
